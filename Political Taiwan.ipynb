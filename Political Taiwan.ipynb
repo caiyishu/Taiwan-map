{
 "cells": [
  {
   "cell_type": "code",
   "execution_count": 16,
   "id": "ed3b788f",
   "metadata": {},
   "outputs": [],
   "source": [
    "from pyecharts.charts import Map\n",
    "from pyecharts import options as opts"
   ]
  },
  {
   "cell_type": "code",
   "execution_count": 34,
   "id": "9479c835",
   "metadata": {},
   "outputs": [],
   "source": [
    "regions = ['南投县','台中市','台北市','台南市', \"台东县\", \"嘉义县\", \"基隆市\", \"宜兰县\", \n",
    "           \"屏东县\", \"彰化县\", \"新北市\", \"新竹市\", \"新竹县\", \"桃园市\", \"花莲县\", \"苗栗县\", \"云林县\", \"高雄市\"]\n",
    "values = [1, 10, 111, 25, 1, 1, 1, 1, 0, 5, 35, 17, 12, 27, 1, 4, 3, 27]#随便输入的数据\n",
    "m = (\n",
    "    Map()\n",
    "    .add(\"\", list(zip(regions, values)), \"台湾\", is_map_symbol_show=False)\n",
    "    .set_global_opts(\n",
    "                    title_opts=opts.TitleOpts(title=\"Political Taiwan\", pos_left = 'center' ),\n",
    "                    visualmap_opts=opts.VisualMapOpts(max_=111,\n",
    "                                                      min_=0,\n",
    "                                                      range_color=[\"#E0ECF8\", \"#00008B\"])\n",
    "                    )\n",
    "    .render(r'hz.html')\n",
    "    )"
   ]
  },
  {
   "cell_type": "code",
   "execution_count": 20,
   "id": "54975c20",
   "metadata": {},
   "outputs": [
    {
     "data": {
      "text/plain": [
       "'E:\\\\OneDrive - City University of Hong Kong\\\\GitHub\\\\Taiwan-map\\\\hz.html'"
      ]
     },
     "execution_count": 20,
     "metadata": {},
     "output_type": "execute_result"
    }
   ],
   "source": []
  },
  {
   "cell_type": "code",
   "execution_count": 21,
   "id": "e0ca2eb3",
   "metadata": {},
   "outputs": [
    {
     "data": {
      "text/plain": [
       "[('南投县', 1),\n",
       " ('台中市', 10),\n",
       " ('台北市', 111),\n",
       " ('台南市', 25),\n",
       " ('台东县', 1),\n",
       " ('嘉义县', 1),\n",
       " ('基隆市', 1),\n",
       " ('宜兰县', 1),\n",
       " ('屏东县', 0),\n",
       " ('彰化县', 5),\n",
       " ('新北市', 35),\n",
       " ('新竹市', 17),\n",
       " ('新竹县', 12),\n",
       " ('桃园市', 27),\n",
       " ('花莲县', 1),\n",
       " ('苗栗县', 4),\n",
       " ('云林县', 3),\n",
       " ('高雄市', 27)]"
      ]
     },
     "execution_count": 21,
     "metadata": {},
     "output_type": "execute_result"
    }
   ],
   "source": [
    "list(zip(regions, values))"
   ]
  },
  {
   "cell_type": "code",
   "execution_count": null,
   "id": "207140cb",
   "metadata": {},
   "outputs": [],
   "source": [
    "https://www.pianshen.com/article/475838162/\n",
    "    https://www.yisu.com/zixun/445133.html\n",
    "        https://cloud.tencent.com/developer/article/1607477"
   ]
  }
 ],
 "metadata": {
  "kernelspec": {
   "display_name": "Python 3",
   "language": "python",
   "name": "python3"
  },
  "language_info": {
   "codemirror_mode": {
    "name": "ipython",
    "version": 3
   },
   "file_extension": ".py",
   "mimetype": "text/x-python",
   "name": "python",
   "nbconvert_exporter": "python",
   "pygments_lexer": "ipython3",
   "version": "3.8.8"
  }
 },
 "nbformat": 4,
 "nbformat_minor": 5
}
